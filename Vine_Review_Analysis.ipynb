{
 "cells": [
  {
   "cell_type": "code",
   "execution_count": 67,
   "id": "6847df07",
   "metadata": {},
   "outputs": [],
   "source": [
    "#import dependencies\n",
    "import pandas as pd \n",
    "import os"
   ]
  },
  {
   "cell_type": "code",
   "execution_count": 68,
   "id": "25687db3",
   "metadata": {},
   "outputs": [
    {
     "data": {
      "text/html": [
       "<div>\n",
       "<style scoped>\n",
       "    .dataframe tbody tr th:only-of-type {\n",
       "        vertical-align: middle;\n",
       "    }\n",
       "\n",
       "    .dataframe tbody tr th {\n",
       "        vertical-align: top;\n",
       "    }\n",
       "\n",
       "    .dataframe thead th {\n",
       "        text-align: right;\n",
       "    }\n",
       "</style>\n",
       "<table border=\"1\" class=\"dataframe\">\n",
       "  <thead>\n",
       "    <tr style=\"text-align: right;\">\n",
       "      <th></th>\n",
       "      <th>review_id</th>\n",
       "      <th>star_rating</th>\n",
       "      <th>helpful_votes</th>\n",
       "      <th>total_votes</th>\n",
       "      <th>vine</th>\n",
       "      <th>verified_purchase</th>\n",
       "    </tr>\n",
       "  </thead>\n",
       "  <tbody>\n",
       "    <tr>\n",
       "      <th>0</th>\n",
       "      <td>R100065P6TTS3J</td>\n",
       "      <td>4.0</td>\n",
       "      <td>0.0</td>\n",
       "      <td>0.0</td>\n",
       "      <td>N</td>\n",
       "      <td>Y</td>\n",
       "    </tr>\n",
       "    <tr>\n",
       "      <th>1</th>\n",
       "      <td>R10007MH6NTVFM</td>\n",
       "      <td>3.0</td>\n",
       "      <td>0.0</td>\n",
       "      <td>0.0</td>\n",
       "      <td>N</td>\n",
       "      <td>Y</td>\n",
       "    </tr>\n",
       "    <tr>\n",
       "      <th>2</th>\n",
       "      <td>R1000CIZTRNP23</td>\n",
       "      <td>4.0</td>\n",
       "      <td>3.0</td>\n",
       "      <td>3.0</td>\n",
       "      <td>N</td>\n",
       "      <td>Y</td>\n",
       "    </tr>\n",
       "    <tr>\n",
       "      <th>3</th>\n",
       "      <td>R1000JOVLD0J41</td>\n",
       "      <td>2.0</td>\n",
       "      <td>0.0</td>\n",
       "      <td>0.0</td>\n",
       "      <td>N</td>\n",
       "      <td>N</td>\n",
       "    </tr>\n",
       "    <tr>\n",
       "      <th>4</th>\n",
       "      <td>R1000YCFR347I2</td>\n",
       "      <td>3.0</td>\n",
       "      <td>1.0</td>\n",
       "      <td>1.0</td>\n",
       "      <td>N</td>\n",
       "      <td>Y</td>\n",
       "    </tr>\n",
       "  </tbody>\n",
       "</table>\n",
       "</div>"
      ],
      "text/plain": [
       "        review_id  star_rating  helpful_votes  total_votes vine  \\\n",
       "0  R100065P6TTS3J          4.0            0.0          0.0    N   \n",
       "1  R10007MH6NTVFM          3.0            0.0          0.0    N   \n",
       "2  R1000CIZTRNP23          4.0            3.0          3.0    N   \n",
       "3  R1000JOVLD0J41          2.0            0.0          0.0    N   \n",
       "4  R1000YCFR347I2          3.0            1.0          1.0    N   \n",
       "\n",
       "  verified_purchase  \n",
       "0                 Y  \n",
       "1                 Y  \n",
       "2                 Y  \n",
       "3                 N  \n",
       "4                 Y  "
      ]
     },
     "execution_count": 68,
     "metadata": {},
     "output_type": "execute_result"
    }
   ],
   "source": [
    "#read in csv file \n",
    "vine_df = pd.read_csv('vine_data_table.csv') \n",
    "#confirm table load\n",
    "vine_df.head()"
   ]
  },
  {
   "cell_type": "code",
   "execution_count": 69,
   "id": "85e88fa3",
   "metadata": {},
   "outputs": [
    {
     "data": {
      "text/html": [
       "<div>\n",
       "<style scoped>\n",
       "    .dataframe tbody tr th:only-of-type {\n",
       "        vertical-align: middle;\n",
       "    }\n",
       "\n",
       "    .dataframe tbody tr th {\n",
       "        vertical-align: top;\n",
       "    }\n",
       "\n",
       "    .dataframe thead th {\n",
       "        text-align: right;\n",
       "    }\n",
       "</style>\n",
       "<table border=\"1\" class=\"dataframe\">\n",
       "  <thead>\n",
       "    <tr style=\"text-align: right;\">\n",
       "      <th></th>\n",
       "      <th>review_id</th>\n",
       "      <th>star_rating</th>\n",
       "      <th>helpful_votes</th>\n",
       "      <th>total_votes</th>\n",
       "      <th>vine</th>\n",
       "      <th>verified_purchase</th>\n",
       "    </tr>\n",
       "  </thead>\n",
       "  <tbody>\n",
       "    <tr>\n",
       "      <th>22</th>\n",
       "      <td>R10037MJ9LKCVM</td>\n",
       "      <td>5.0</td>\n",
       "      <td>72.0</td>\n",
       "      <td>74.0</td>\n",
       "      <td>N</td>\n",
       "      <td>Y</td>\n",
       "    </tr>\n",
       "    <tr>\n",
       "      <th>28</th>\n",
       "      <td>R1003WQ2N568UJ</td>\n",
       "      <td>5.0</td>\n",
       "      <td>139.0</td>\n",
       "      <td>140.0</td>\n",
       "      <td>N</td>\n",
       "      <td>Y</td>\n",
       "    </tr>\n",
       "    <tr>\n",
       "      <th>41</th>\n",
       "      <td>R1004OFK0BIRO3</td>\n",
       "      <td>5.0</td>\n",
       "      <td>138.0</td>\n",
       "      <td>141.0</td>\n",
       "      <td>N</td>\n",
       "      <td>N</td>\n",
       "    </tr>\n",
       "    <tr>\n",
       "      <th>51</th>\n",
       "      <td>R1005VMT0E345F</td>\n",
       "      <td>5.0</td>\n",
       "      <td>22.0</td>\n",
       "      <td>23.0</td>\n",
       "      <td>N</td>\n",
       "      <td>Y</td>\n",
       "    </tr>\n",
       "    <tr>\n",
       "      <th>56</th>\n",
       "      <td>R1006CNCT32VNM</td>\n",
       "      <td>5.0</td>\n",
       "      <td>17.0</td>\n",
       "      <td>20.0</td>\n",
       "      <td>N</td>\n",
       "      <td>N</td>\n",
       "    </tr>\n",
       "  </tbody>\n",
       "</table>\n",
       "</div>"
      ],
      "text/plain": [
       "         review_id  star_rating  helpful_votes  total_votes vine  \\\n",
       "22  R10037MJ9LKCVM          5.0           72.0         74.0    N   \n",
       "28  R1003WQ2N568UJ          5.0          139.0        140.0    N   \n",
       "41  R1004OFK0BIRO3          5.0          138.0        141.0    N   \n",
       "51  R1005VMT0E345F          5.0           22.0         23.0    N   \n",
       "56  R1006CNCT32VNM          5.0           17.0         20.0    N   \n",
       "\n",
       "   verified_purchase  \n",
       "22                 Y  \n",
       "28                 Y  \n",
       "41                 N  \n",
       "51                 Y  \n",
       "56                 N  "
      ]
     },
     "execution_count": 69,
     "metadata": {},
     "output_type": "execute_result"
    }
   ],
   "source": [
    "#filter dataframe to contain records where total votes => 20\n",
    "vine_20 = vine_df[vine_df['total_votes'] >=20]\n",
    "\n",
    "#confirm\n",
    "vine_20.head()"
   ]
  },
  {
   "cell_type": "code",
   "execution_count": 70,
   "id": "5a0f5478",
   "metadata": {},
   "outputs": [
    {
     "data": {
      "text/html": [
       "<div>\n",
       "<style scoped>\n",
       "    .dataframe tbody tr th:only-of-type {\n",
       "        vertical-align: middle;\n",
       "    }\n",
       "\n",
       "    .dataframe tbody tr th {\n",
       "        vertical-align: top;\n",
       "    }\n",
       "\n",
       "    .dataframe thead th {\n",
       "        text-align: right;\n",
       "    }\n",
       "</style>\n",
       "<table border=\"1\" class=\"dataframe\">\n",
       "  <thead>\n",
       "    <tr style=\"text-align: right;\">\n",
       "      <th></th>\n",
       "      <th>review_id</th>\n",
       "      <th>star_rating</th>\n",
       "      <th>helpful_votes</th>\n",
       "      <th>total_votes</th>\n",
       "      <th>vine</th>\n",
       "      <th>verified_purchase</th>\n",
       "    </tr>\n",
       "  </thead>\n",
       "  <tbody>\n",
       "    <tr>\n",
       "      <th>22</th>\n",
       "      <td>R10037MJ9LKCVM</td>\n",
       "      <td>5.0</td>\n",
       "      <td>72.0</td>\n",
       "      <td>74.0</td>\n",
       "      <td>N</td>\n",
       "      <td>Y</td>\n",
       "    </tr>\n",
       "    <tr>\n",
       "      <th>28</th>\n",
       "      <td>R1003WQ2N568UJ</td>\n",
       "      <td>5.0</td>\n",
       "      <td>139.0</td>\n",
       "      <td>140.0</td>\n",
       "      <td>N</td>\n",
       "      <td>Y</td>\n",
       "    </tr>\n",
       "    <tr>\n",
       "      <th>41</th>\n",
       "      <td>R1004OFK0BIRO3</td>\n",
       "      <td>5.0</td>\n",
       "      <td>138.0</td>\n",
       "      <td>141.0</td>\n",
       "      <td>N</td>\n",
       "      <td>N</td>\n",
       "    </tr>\n",
       "    <tr>\n",
       "      <th>51</th>\n",
       "      <td>R1005VMT0E345F</td>\n",
       "      <td>5.0</td>\n",
       "      <td>22.0</td>\n",
       "      <td>23.0</td>\n",
       "      <td>N</td>\n",
       "      <td>Y</td>\n",
       "    </tr>\n",
       "    <tr>\n",
       "      <th>56</th>\n",
       "      <td>R1006CNCT32VNM</td>\n",
       "      <td>5.0</td>\n",
       "      <td>17.0</td>\n",
       "      <td>20.0</td>\n",
       "      <td>N</td>\n",
       "      <td>N</td>\n",
       "    </tr>\n",
       "  </tbody>\n",
       "</table>\n",
       "</div>"
      ],
      "text/plain": [
       "         review_id  star_rating  helpful_votes  total_votes vine  \\\n",
       "22  R10037MJ9LKCVM          5.0           72.0         74.0    N   \n",
       "28  R1003WQ2N568UJ          5.0          139.0        140.0    N   \n",
       "41  R1004OFK0BIRO3          5.0          138.0        141.0    N   \n",
       "51  R1005VMT0E345F          5.0           22.0         23.0    N   \n",
       "56  R1006CNCT32VNM          5.0           17.0         20.0    N   \n",
       "\n",
       "   verified_purchase  \n",
       "22                 Y  \n",
       "28                 Y  \n",
       "41                 N  \n",
       "51                 Y  \n",
       "56                 N  "
      ]
     },
     "execution_count": 70,
     "metadata": {},
     "output_type": "execute_result"
    }
   ],
   "source": [
    "#filter dataframe to contain records where helpful_votes/total_votes *100 => 50%\n",
    "vine_50 = vine_20[(vine_20['helpful_votes']/vine_20['total_votes']*100) >= 50.0]\n",
    "\n",
    "#confirm\n",
    "vine_50.head()"
   ]
  },
  {
   "cell_type": "code",
   "execution_count": 71,
   "id": "7fbf0648",
   "metadata": {},
   "outputs": [
    {
     "data": {
      "text/html": [
       "<div>\n",
       "<style scoped>\n",
       "    .dataframe tbody tr th:only-of-type {\n",
       "        vertical-align: middle;\n",
       "    }\n",
       "\n",
       "    .dataframe tbody tr th {\n",
       "        vertical-align: top;\n",
       "    }\n",
       "\n",
       "    .dataframe thead th {\n",
       "        text-align: right;\n",
       "    }\n",
       "</style>\n",
       "<table border=\"1\" class=\"dataframe\">\n",
       "  <thead>\n",
       "    <tr style=\"text-align: right;\">\n",
       "      <th></th>\n",
       "      <th>review_id</th>\n",
       "      <th>star_rating</th>\n",
       "      <th>helpful_votes</th>\n",
       "      <th>total_votes</th>\n",
       "      <th>vine</th>\n",
       "      <th>verified_purchase</th>\n",
       "    </tr>\n",
       "  </thead>\n",
       "  <tbody>\n",
       "    <tr>\n",
       "      <th>5658</th>\n",
       "      <td>R10A5XNAP2Y4N7</td>\n",
       "      <td>5.0</td>\n",
       "      <td>33.0</td>\n",
       "      <td>36.0</td>\n",
       "      <td>Y</td>\n",
       "      <td>N</td>\n",
       "    </tr>\n",
       "    <tr>\n",
       "      <th>15676</th>\n",
       "      <td>R10T07ZEB56X21</td>\n",
       "      <td>5.0</td>\n",
       "      <td>121.0</td>\n",
       "      <td>132.0</td>\n",
       "      <td>Y</td>\n",
       "      <td>N</td>\n",
       "    </tr>\n",
       "    <tr>\n",
       "      <th>41243</th>\n",
       "      <td>R1241UCQGRHCNH</td>\n",
       "      <td>5.0</td>\n",
       "      <td>72.0</td>\n",
       "      <td>76.0</td>\n",
       "      <td>Y</td>\n",
       "      <td>N</td>\n",
       "    </tr>\n",
       "    <tr>\n",
       "      <th>44690</th>\n",
       "      <td>R12AB66IMT9Q8W</td>\n",
       "      <td>3.0</td>\n",
       "      <td>68.0</td>\n",
       "      <td>76.0</td>\n",
       "      <td>Y</td>\n",
       "      <td>N</td>\n",
       "    </tr>\n",
       "    <tr>\n",
       "      <th>50149</th>\n",
       "      <td>R12MDZCKDWYE67</td>\n",
       "      <td>5.0</td>\n",
       "      <td>27.0</td>\n",
       "      <td>31.0</td>\n",
       "      <td>Y</td>\n",
       "      <td>N</td>\n",
       "    </tr>\n",
       "  </tbody>\n",
       "</table>\n",
       "</div>"
      ],
      "text/plain": [
       "            review_id  star_rating  helpful_votes  total_votes vine  \\\n",
       "5658   R10A5XNAP2Y4N7          5.0           33.0         36.0    Y   \n",
       "15676  R10T07ZEB56X21          5.0          121.0        132.0    Y   \n",
       "41243  R1241UCQGRHCNH          5.0           72.0         76.0    Y   \n",
       "44690  R12AB66IMT9Q8W          3.0           68.0         76.0    Y   \n",
       "50149  R12MDZCKDWYE67          5.0           27.0         31.0    Y   \n",
       "\n",
       "      verified_purchase  \n",
       "5658                  N  \n",
       "15676                 N  \n",
       "41243                 N  \n",
       "44690                 N  \n",
       "50149                 N  "
      ]
     },
     "execution_count": 71,
     "metadata": {},
     "output_type": "execute_result"
    }
   ],
   "source": [
    "#filter dataframe to contain records where vine == Y \n",
    "vine_paid = vine_50[vine_50['vine']=='Y']\n",
    "#confirm\n",
    "vine_paid.head()"
   ]
  },
  {
   "cell_type": "code",
   "execution_count": 72,
   "id": "1a3eb60d",
   "metadata": {},
   "outputs": [
    {
     "data": {
      "text/html": [
       "<div>\n",
       "<style scoped>\n",
       "    .dataframe tbody tr th:only-of-type {\n",
       "        vertical-align: middle;\n",
       "    }\n",
       "\n",
       "    .dataframe tbody tr th {\n",
       "        vertical-align: top;\n",
       "    }\n",
       "\n",
       "    .dataframe thead th {\n",
       "        text-align: right;\n",
       "    }\n",
       "</style>\n",
       "<table border=\"1\" class=\"dataframe\">\n",
       "  <thead>\n",
       "    <tr style=\"text-align: right;\">\n",
       "      <th></th>\n",
       "      <th>review_id</th>\n",
       "      <th>star_rating</th>\n",
       "      <th>helpful_votes</th>\n",
       "      <th>total_votes</th>\n",
       "      <th>vine</th>\n",
       "      <th>verified_purchase</th>\n",
       "    </tr>\n",
       "  </thead>\n",
       "  <tbody>\n",
       "    <tr>\n",
       "      <th>22</th>\n",
       "      <td>R10037MJ9LKCVM</td>\n",
       "      <td>5.0</td>\n",
       "      <td>72.0</td>\n",
       "      <td>74.0</td>\n",
       "      <td>N</td>\n",
       "      <td>Y</td>\n",
       "    </tr>\n",
       "    <tr>\n",
       "      <th>28</th>\n",
       "      <td>R1003WQ2N568UJ</td>\n",
       "      <td>5.0</td>\n",
       "      <td>139.0</td>\n",
       "      <td>140.0</td>\n",
       "      <td>N</td>\n",
       "      <td>Y</td>\n",
       "    </tr>\n",
       "    <tr>\n",
       "      <th>41</th>\n",
       "      <td>R1004OFK0BIRO3</td>\n",
       "      <td>5.0</td>\n",
       "      <td>138.0</td>\n",
       "      <td>141.0</td>\n",
       "      <td>N</td>\n",
       "      <td>N</td>\n",
       "    </tr>\n",
       "    <tr>\n",
       "      <th>51</th>\n",
       "      <td>R1005VMT0E345F</td>\n",
       "      <td>5.0</td>\n",
       "      <td>22.0</td>\n",
       "      <td>23.0</td>\n",
       "      <td>N</td>\n",
       "      <td>Y</td>\n",
       "    </tr>\n",
       "    <tr>\n",
       "      <th>56</th>\n",
       "      <td>R1006CNCT32VNM</td>\n",
       "      <td>5.0</td>\n",
       "      <td>17.0</td>\n",
       "      <td>20.0</td>\n",
       "      <td>N</td>\n",
       "      <td>N</td>\n",
       "    </tr>\n",
       "  </tbody>\n",
       "</table>\n",
       "</div>"
      ],
      "text/plain": [
       "         review_id  star_rating  helpful_votes  total_votes vine  \\\n",
       "22  R10037MJ9LKCVM          5.0           72.0         74.0    N   \n",
       "28  R1003WQ2N568UJ          5.0          139.0        140.0    N   \n",
       "41  R1004OFK0BIRO3          5.0          138.0        141.0    N   \n",
       "51  R1005VMT0E345F          5.0           22.0         23.0    N   \n",
       "56  R1006CNCT32VNM          5.0           17.0         20.0    N   \n",
       "\n",
       "   verified_purchase  \n",
       "22                 Y  \n",
       "28                 Y  \n",
       "41                 N  \n",
       "51                 Y  \n",
       "56                 N  "
      ]
     },
     "execution_count": 72,
     "metadata": {},
     "output_type": "execute_result"
    }
   ],
   "source": [
    "#filter data frame to contain records where vine ==N \n",
    "vine_not_paid = vine_50[vine_50['vine']=='N']\n",
    "#confirm\n",
    "vine_not_paid.head()"
   ]
  },
  {
   "cell_type": "code",
   "execution_count": 73,
   "id": "a5bd0f93",
   "metadata": {},
   "outputs": [
    {
     "name": "stdout",
     "output_type": "stream",
     "text": [
      "Total number of reviews: 38010\n"
     ]
    }
   ],
   "source": [
    "#count total number of reviews \n",
    "count = len(pd.unique(vine_50['review_id']))\n",
    "print(\"Total number of reviews:\", count)"
   ]
  },
  {
   "cell_type": "code",
   "execution_count": 74,
   "id": "0283961c",
   "metadata": {},
   "outputs": [
    {
     "name": "stdout",
     "output_type": "stream",
     "text": [
      "Total number of  paid reviews: 170\n"
     ]
    }
   ],
   "source": [
    "#count number of paid reviews\n",
    "paid_count = len(vine_50[(vine_50['vine'] == 'Y')])\n",
    "print(\"Total number of  paid reviews:\", paid_count)"
   ]
  },
  {
   "cell_type": "code",
   "execution_count": 75,
   "id": "5df4e4e8",
   "metadata": {},
   "outputs": [
    {
     "name": "stdout",
     "output_type": "stream",
     "text": [
      "Total number of paid five star reviews: 65\n"
     ]
    }
   ],
   "source": [
    "#number of paid 5 star reviews \n",
    "paid_five_star_count = len(vine_50[(vine_50['vine'] == 'Y') & (vine_50['star_rating'] ==5)])\n",
    "print(\"Total number of paid five star reviews:\", paid_five_star_count)\n"
   ]
  },
  {
   "cell_type": "code",
   "execution_count": 76,
   "id": "307a710f",
   "metadata": {},
   "outputs": [
    {
     "name": "stdout",
     "output_type": "stream",
     "text": [
      "Total number of unpaid reviews: 37840\n"
     ]
    }
   ],
   "source": [
    "#count number of unpaid reviews\n",
    "unpaid_count = len(vine_50[(vine_50['vine'] == 'N')])\n",
    "print(\"Total number of unpaid reviews:\", unpaid_count)"
   ]
  },
  {
   "cell_type": "code",
   "execution_count": 77,
   "id": "b7506424",
   "metadata": {},
   "outputs": [
    {
     "name": "stdout",
     "output_type": "stream",
     "text": [
      "Total number of unpaid five star reviews: 20612\n"
     ]
    }
   ],
   "source": [
    "#number of unpaid 5 star reviews \n",
    "unpaid_five_star_count = len(vine_50[(vine_50['vine'] == 'N') & (vine_50['star_rating'] ==5)])\n",
    "print(\"Total number of unpaid five star reviews:\", unpaid_five_star_count)"
   ]
  },
  {
   "cell_type": "code",
   "execution_count": 80,
   "id": "0a9d1459",
   "metadata": {},
   "outputs": [
    {
     "name": "stdout",
     "output_type": "stream",
     "text": [
      "Percentage of paid five star reviews out of total number reviews: 0.171008\n"
     ]
    }
   ],
   "source": [
    "#Percentage of paid 5 star reviews \n",
    "percent_paid_five_star = (paid_five_star_count/count)*100\n",
    "#round value \n",
    "percent_paid_five_star_rounded = round(percent_paid_five_star, 6)\n",
    "print(\"Percentage of paid five star reviews out of total number reviews:\", percent_paid_five_star_rounded)"
   ]
  },
  {
   "cell_type": "code",
   "execution_count": 81,
   "id": "b5816c6f",
   "metadata": {},
   "outputs": [
    {
     "name": "stdout",
     "output_type": "stream",
     "text": [
      "Percentage of unpaid five star reviews out of total number reviews: 54.227835\n"
     ]
    }
   ],
   "source": [
    "#Percentage of paid 5 star reviews \n",
    "percent_unpaid_five_star = (unpaid_five_star_count/count)*100\n",
    "#round value \n",
    "percent_unpaid_five_star_rounded = round(percent_unpaid_five_star, 6)\n",
    "print(\"Percentage of unpaid five star reviews out of total number reviews:\", percent_unpaid_five_star_rounded)"
   ]
  },
  {
   "cell_type": "code",
   "execution_count": null,
   "id": "4f5ebfbf",
   "metadata": {},
   "outputs": [],
   "source": []
  }
 ],
 "metadata": {
  "kernelspec": {
   "display_name": "Python 3 (ipykernel)",
   "language": "python",
   "name": "python3"
  },
  "language_info": {
   "codemirror_mode": {
    "name": "ipython",
    "version": 3
   },
   "file_extension": ".py",
   "mimetype": "text/x-python",
   "name": "python",
   "nbconvert_exporter": "python",
   "pygments_lexer": "ipython3",
   "version": "3.9.12"
  }
 },
 "nbformat": 4,
 "nbformat_minor": 5
}
